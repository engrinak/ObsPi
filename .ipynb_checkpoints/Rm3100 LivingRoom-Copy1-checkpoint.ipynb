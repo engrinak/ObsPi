{
 "cells": [
  {
   "cell_type": "markdown",
   "id": "micro-scenario",
   "metadata": {},
   "source": [
    "# A first look at the data.\n",
    "\n",
    "The other day, I soldered together an extension cable to get the RM3100 sensor as far away from the Raspberry Pi as I could. Then I ran the set up in the garage for a couple days to collect a little bit of data for analysis. Let's see what we can see..."
   ]
  },
  {
   "cell_type": "code",
   "execution_count": 1,
   "id": "useful-relaxation",
   "metadata": {},
   "outputs": [],
   "source": [
    "import pandas as pd\n",
    "import matplotlib.pyplot as plt\n",
    "\n",
    "df = pd.read_csv('magtest_livingroom.txt.txt', parse_dates=[0], header=None)"
   ]
  },
  {
   "cell_type": "code",
   "execution_count": 2,
   "id": "threaded-theater",
   "metadata": {},
   "outputs": [
    {
     "data": {
      "text/html": [
       "<div>\n",
       "<style scoped>\n",
       "    .dataframe tbody tr th:only-of-type {\n",
       "        vertical-align: middle;\n",
       "    }\n",
       "\n",
       "    .dataframe tbody tr th {\n",
       "        vertical-align: top;\n",
       "    }\n",
       "\n",
       "    .dataframe thead th {\n",
       "        text-align: right;\n",
       "    }\n",
       "</style>\n",
       "<table border=\"1\" class=\"dataframe\">\n",
       "  <thead>\n",
       "    <tr style=\"text-align: right;\">\n",
       "      <th></th>\n",
       "      <th>LocalTime</th>\n",
       "      <th>F</th>\n",
       "      <th>X</th>\n",
       "      <th>Y</th>\n",
       "      <th>Z</th>\n",
       "    </tr>\n",
       "  </thead>\n",
       "  <tbody>\n",
       "    <tr>\n",
       "      <th>0</th>\n",
       "      <td>2021-01-20 10:35:19</td>\n",
       "      <td>5019.010759</td>\n",
       "      <td>592</td>\n",
       "      <td>3682</td>\n",
       "      <td>3359</td>\n",
       "    </tr>\n",
       "    <tr>\n",
       "      <th>1</th>\n",
       "      <td>2021-01-20 10:35:29</td>\n",
       "      <td>5014.296062</td>\n",
       "      <td>595</td>\n",
       "      <td>3676</td>\n",
       "      <td>3358</td>\n",
       "    </tr>\n",
       "    <tr>\n",
       "      <th>2</th>\n",
       "      <td>2021-01-20 10:35:39</td>\n",
       "      <td>5014.177500</td>\n",
       "      <td>594</td>\n",
       "      <td>3676</td>\n",
       "      <td>3358</td>\n",
       "    </tr>\n",
       "    <tr>\n",
       "      <th>3</th>\n",
       "      <td>2021-01-20 10:35:49</td>\n",
       "      <td>5020.467508</td>\n",
       "      <td>593</td>\n",
       "      <td>3682</td>\n",
       "      <td>3361</td>\n",
       "    </tr>\n",
       "    <tr>\n",
       "      <th>4</th>\n",
       "      <td>2021-01-20 10:35:59</td>\n",
       "      <td>4920.464206</td>\n",
       "      <td>690</td>\n",
       "      <td>3868</td>\n",
       "      <td>2962</td>\n",
       "    </tr>\n",
       "  </tbody>\n",
       "</table>\n",
       "</div>"
      ],
      "text/plain": [
       "            LocalTime            F    X     Y     Z\n",
       "0 2021-01-20 10:35:19  5019.010759  592  3682  3359\n",
       "1 2021-01-20 10:35:29  5014.296062  595  3676  3358\n",
       "2 2021-01-20 10:35:39  5014.177500  594  3676  3358\n",
       "3 2021-01-20 10:35:49  5020.467508  593  3682  3361\n",
       "4 2021-01-20 10:35:59  4920.464206  690  3868  2962"
      ]
     },
     "execution_count": 2,
     "metadata": {},
     "output_type": "execute_result"
    }
   ],
   "source": [
    "df.columns = ['LocalTime', 'F', 'X', 'Y', 'Z']\n",
    "df.head()"
   ]
  },
  {
   "cell_type": "markdown",
   "id": "social-morning",
   "metadata": {},
   "source": [
    "### Let's take a look at the raw data..."
   ]
  },
  {
   "cell_type": "code",
   "execution_count": 3,
   "id": "exposed-belly",
   "metadata": {},
   "outputs": [
    {
     "data": {
      "image/png": "[encoded data removed]",
      "text/plain": [
       "<Figure size 432x288 with 1 Axes>"
      ]
     },
     "metadata": {
      "needs_background": "light"
     },
     "output_type": "display_data"
    }
   ],
   "source": [
    "fig, ax = plt.subplots()\n",
    "\n",
    "ax.plot(df['LocalTime'], df['F'])\n",
    "ax.set_ylim(3950,4050)\n",
    "plt.rcParams['figure.figsize'] = [10, 5]"
   ]
  },
  {
   "cell_type": "markdown",
   "id": "alpha-click",
   "metadata": {},
   "source": [
    "The data seems very noisy, so let's take a rolling mean."
   ]
  },
  {
   "cell_type": "code",
   "execution_count": 37,
   "id": "exciting-tolerance",
   "metadata": {},
   "outputs": [],
   "source": [
    "df['F_mean'] = df['F'].rolling(window=20).mean()"
   ]
  },
  {
   "cell_type": "code",
   "execution_count": 38,
   "id": "engaging-intake",
   "metadata": {},
   "outputs": [
    {
     "data": {
      "text/plain": [
       "Text(420, 180, 'vehicle leaves driveway')"
      ]
     },
     "execution_count": 38,
     "metadata": {},
     "output_type": "execute_result"
    },
    {
     "data": {
      "image/png": "[encoded data removed]",
      "text/plain": [
       "<Figure size 720x360 with 1 Axes>"
      ]
     },
     "metadata": {
      "needs_background": "light"
     },
     "output_type": "display_data"
    }
   ],
   "source": [
    "fig, ax = plt.subplots()\n",
    "ax.plot(df['LocalTime'], df['F_mean'])\n",
    "ax.set_ylim(3900, 4100)\n",
    "\n",
    "plt.annotate(xycoords='figure pixels', xy=(95,180), text='vehicle leaves driveway', rotation=50)\n",
    "plt.annotate(xycoords='figure pixels', xy=(120,180), text='vehicle leaves driveway', rotation=50)\n",
    "plt.annotate(xycoords='figure pixels', xy=(220,180), text='vehicle leaves driveway', rotation=50)\n",
    "plt.annotate(xycoords='figure pixels', xy=(250,180), text='vehicle leaves driveway', rotation=50)\n",
    "plt.annotate(xycoords='figure pixels', xy=(380,180), text='vehicle leaves driveway', rotation=50)\n",
    "plt.annotate(xycoords='figure pixels', xy=(420,180), text='vehicle leaves driveway', rotation=50)"
   ]
  },
  {
   "cell_type": "markdown",
   "id": "registered-belarus",
   "metadata": {},
   "source": [
    "The first thing I could see right away were these periods of time when we left the house in my truck. The truck is actually parked outside in the driveway, outside the garage door about twenty feet away. I think it's pretty cool - maybe I could use the sensor for vehicle detection?\n",
    "\n",
    "Ok, let's get some data from a real magnetic observatory. The closest one to me is in Fairbanks (CMO)."
   ]
  },
  {
   "cell_type": "code",
   "execution_count": 39,
   "id": "still-rendering",
   "metadata": {},
   "outputs": [
    {
     "name": "stdout",
     "output_type": "stream",
     "text": [
      "2021-01-20 10:35:19\n",
      "2021-01-23 12:48:15\n"
     ]
    }
   ],
   "source": [
    "#The time range I'm looking for\n",
    "print(df['LocalTime'].min())\n",
    "print(df['LocalTime'].max())"
   ]
  },
  {
   "cell_type": "code",
   "execution_count": 40,
   "id": "preceding-fancy",
   "metadata": {},
   "outputs": [
    {
     "data": {
      "text/html": [
       "<div>\n",
       "<style scoped>\n",
       "    .dataframe tbody tr th:only-of-type {\n",
       "        vertical-align: middle;\n",
       "    }\n",
       "\n",
       "    .dataframe tbody tr th {\n",
       "        vertical-align: top;\n",
       "    }\n",
       "\n",
       "    .dataframe thead th {\n",
       "        text-align: right;\n",
       "    }\n",
       "</style>\n",
       "<table border=\"1\" class=\"dataframe\">\n",
       "  <thead>\n",
       "    <tr style=\"text-align: right;\">\n",
       "      <th></th>\n",
       "      <th>GMTTime</th>\n",
       "      <th>DOY</th>\n",
       "      <th>CMOH</th>\n",
       "      <th>CMOD</th>\n",
       "      <th>CMOZ</th>\n",
       "      <th>CMOF</th>\n",
       "    </tr>\n",
       "  </thead>\n",
       "  <tbody>\n",
       "    <tr>\n",
       "      <th>0</th>\n",
       "      <td>2021-01-20 19:35:00</td>\n",
       "      <td>20</td>\n",
       "      <td>12454.24</td>\n",
       "      <td>-128.58</td>\n",
       "      <td>55043.76</td>\n",
       "      <td>56414.41</td>\n",
       "    </tr>\n",
       "    <tr>\n",
       "      <th>1</th>\n",
       "      <td>2021-01-20 19:36:00</td>\n",
       "      <td>20</td>\n",
       "      <td>12452.26</td>\n",
       "      <td>-127.64</td>\n",
       "      <td>55045.31</td>\n",
       "      <td>56415.42</td>\n",
       "    </tr>\n",
       "    <tr>\n",
       "      <th>2</th>\n",
       "      <td>2021-01-20 19:37:00</td>\n",
       "      <td>20</td>\n",
       "      <td>12452.59</td>\n",
       "      <td>-127.45</td>\n",
       "      <td>55046.64</td>\n",
       "      <td>56416.74</td>\n",
       "    </tr>\n",
       "    <tr>\n",
       "      <th>3</th>\n",
       "      <td>2021-01-20 19:38:00</td>\n",
       "      <td>20</td>\n",
       "      <td>12455.85</td>\n",
       "      <td>-127.33</td>\n",
       "      <td>55047.06</td>\n",
       "      <td>56417.92</td>\n",
       "    </tr>\n",
       "    <tr>\n",
       "      <th>4</th>\n",
       "      <td>2021-01-20 19:39:00</td>\n",
       "      <td>20</td>\n",
       "      <td>12458.52</td>\n",
       "      <td>-127.68</td>\n",
       "      <td>55046.68</td>\n",
       "      <td>56418.19</td>\n",
       "    </tr>\n",
       "  </tbody>\n",
       "</table>\n",
       "</div>"
      ],
      "text/plain": [
       "              GMTTime  DOY      CMOH    CMOD      CMOZ      CMOF\n",
       "0 2021-01-20 19:35:00   20  12454.24 -128.58  55043.76  56414.41\n",
       "1 2021-01-20 19:36:00   20  12452.26 -127.64  55045.31  56415.42\n",
       "2 2021-01-20 19:37:00   20  12452.59 -127.45  55046.64  56416.74\n",
       "3 2021-01-20 19:38:00   20  12455.85 -127.33  55047.06  56417.92\n",
       "4 2021-01-20 19:39:00   20  12458.52 -127.68  55046.68  56418.19"
      ]
     },
     "execution_count": 40,
     "metadata": {},
     "output_type": "execute_result"
    }
   ],
   "source": [
    "df_obs = pd.read_csv('https://geomag.usgs.gov/ws/edge/?id=CMO&elements=H,D,Z,F&starttime=2021-01-20T19:35:00&endtime=2021-01-23T21:48:00', \n",
    "                     skiprows=21, delim_whitespace=True, parse_dates=[[0,1]], header=None)\n",
    "df_obs.columns = ['GMTTime', 'DOY', 'CMOH', 'CMOD', 'CMOZ', 'CMOF']\n",
    "df_obs.head()"
   ]
  },
  {
   "cell_type": "code",
   "execution_count": 41,
   "id": "loose-modeling",
   "metadata": {},
   "outputs": [],
   "source": [
    "import datetime\n",
    "df_obs['LocalTime'] = df_obs['GMTTime'] - datetime.timedelta(hours=9)\n"
   ]
  },
  {
   "cell_type": "code",
   "execution_count": 42,
   "id": "simplified-produce",
   "metadata": {},
   "outputs": [],
   "source": [
    "dfresult = pd.merge(df, df_obs, how='outer', on='LocalTime')"
   ]
  },
  {
   "cell_type": "code",
   "execution_count": 43,
   "id": "liberal-shopping",
   "metadata": {},
   "outputs": [
    {
     "data": {
      "text/plain": [
       "Index(['LocalTime', 'F', 'X', 'Y', 'Z', 'F_mean', 'GMTTime', 'DOY', 'CMOH',\n",
       "       'CMOD', 'CMOZ', 'CMOF'],\n",
       "      dtype='object')"
      ]
     },
     "execution_count": 43,
     "metadata": {},
     "output_type": "execute_result"
    }
   ],
   "source": [
    "dfresult.columns"
   ]
  },
  {
   "cell_type": "code",
   "execution_count": 49,
   "id": "personal-breeding",
   "metadata": {
    "scrolled": true
   },
   "outputs": [
    {
     "data": {
      "text/plain": [
       "<matplotlib.legend.Legend at 0x2110477b108>"
      ]
     },
     "execution_count": 49,
     "metadata": {},
     "output_type": "execute_result"
    },
    {
     "data": {
      "image/png": "[encoded data removed]",
      "text/plain": [
       "<Figure size 720x360 with 1 Axes>"
      ]
     },
     "metadata": {
      "needs_background": "light"
     },
     "output_type": "display_data"
    }
   ],
   "source": [
    "fig, ax = plt.subplots()\n",
    "ax.plot(dfresult['LocalTime'], dfresult['F_mean']+52450, label='My Sensor (Anchorage, AK)')\n",
    "ax.plot(dfresult['LocalTime'], dfresult['CMOF'], label='USGS Observatory (Fairbanks, AK)')\n",
    "ax.set_ylim(56300,56500)\n",
    "ax.legend(loc='upper right')"
   ]
  },
  {
   "cell_type": "code",
   "execution_count": 45,
   "id": "vertical-folder",
   "metadata": {},
   "outputs": [
    {
     "data": {
      "text/html": [
       "<div>\n",
       "<style scoped>\n",
       "    .dataframe tbody tr th:only-of-type {\n",
       "        vertical-align: middle;\n",
       "    }\n",
       "\n",
       "    .dataframe tbody tr th {\n",
       "        vertical-align: top;\n",
       "    }\n",
       "\n",
       "    .dataframe thead th {\n",
       "        text-align: right;\n",
       "    }\n",
       "</style>\n",
       "<table border=\"1\" class=\"dataframe\">\n",
       "  <thead>\n",
       "    <tr style=\"text-align: right;\">\n",
       "      <th></th>\n",
       "      <th>LocalTime</th>\n",
       "      <th>F</th>\n",
       "      <th>X</th>\n",
       "      <th>Y</th>\n",
       "      <th>Z</th>\n",
       "      <th>F_mean</th>\n",
       "      <th>GMTTime</th>\n",
       "      <th>DOY</th>\n",
       "      <th>CMOH</th>\n",
       "      <th>CMOD</th>\n",
       "      <th>CMOZ</th>\n",
       "      <th>CMOF</th>\n",
       "    </tr>\n",
       "  </thead>\n",
       "  <tbody>\n",
       "    <tr>\n",
       "      <th>0</th>\n",
       "      <td>2021-01-20 10:35:19</td>\n",
       "      <td>5019.010759</td>\n",
       "      <td>592.0</td>\n",
       "      <td>3682.0</td>\n",
       "      <td>3359.0</td>\n",
       "      <td>NaN</td>\n",
       "      <td>NaT</td>\n",
       "      <td>NaN</td>\n",
       "      <td>NaN</td>\n",
       "      <td>NaN</td>\n",
       "      <td>NaN</td>\n",
       "      <td>NaN</td>\n",
       "    </tr>\n",
       "    <tr>\n",
       "      <th>1</th>\n",
       "      <td>2021-01-20 10:35:29</td>\n",
       "      <td>5014.296062</td>\n",
       "      <td>595.0</td>\n",
       "      <td>3676.0</td>\n",
       "      <td>3358.0</td>\n",
       "      <td>NaN</td>\n",
       "      <td>NaT</td>\n",
       "      <td>NaN</td>\n",
       "      <td>NaN</td>\n",
       "      <td>NaN</td>\n",
       "      <td>NaN</td>\n",
       "      <td>NaN</td>\n",
       "    </tr>\n",
       "    <tr>\n",
       "      <th>2</th>\n",
       "      <td>2021-01-20 10:35:39</td>\n",
       "      <td>5014.177500</td>\n",
       "      <td>594.0</td>\n",
       "      <td>3676.0</td>\n",
       "      <td>3358.0</td>\n",
       "      <td>NaN</td>\n",
       "      <td>NaT</td>\n",
       "      <td>NaN</td>\n",
       "      <td>NaN</td>\n",
       "      <td>NaN</td>\n",
       "      <td>NaN</td>\n",
       "      <td>NaN</td>\n",
       "    </tr>\n",
       "    <tr>\n",
       "      <th>3</th>\n",
       "      <td>2021-01-20 10:35:49</td>\n",
       "      <td>5020.467508</td>\n",
       "      <td>593.0</td>\n",
       "      <td>3682.0</td>\n",
       "      <td>3361.0</td>\n",
       "      <td>NaN</td>\n",
       "      <td>NaT</td>\n",
       "      <td>NaN</td>\n",
       "      <td>NaN</td>\n",
       "      <td>NaN</td>\n",
       "      <td>NaN</td>\n",
       "      <td>NaN</td>\n",
       "    </tr>\n",
       "    <tr>\n",
       "      <th>4</th>\n",
       "      <td>2021-01-20 10:35:59</td>\n",
       "      <td>4920.464206</td>\n",
       "      <td>690.0</td>\n",
       "      <td>3868.0</td>\n",
       "      <td>2962.0</td>\n",
       "      <td>NaN</td>\n",
       "      <td>NaT</td>\n",
       "      <td>NaN</td>\n",
       "      <td>NaN</td>\n",
       "      <td>NaN</td>\n",
       "      <td>NaN</td>\n",
       "      <td>NaN</td>\n",
       "    </tr>\n",
       "    <tr>\n",
       "      <th>...</th>\n",
       "      <td>...</td>\n",
       "      <td>...</td>\n",
       "      <td>...</td>\n",
       "      <td>...</td>\n",
       "      <td>...</td>\n",
       "      <td>...</td>\n",
       "      <td>...</td>\n",
       "      <td>...</td>\n",
       "      <td>...</td>\n",
       "      <td>...</td>\n",
       "      <td>...</td>\n",
       "      <td>...</td>\n",
       "    </tr>\n",
       "    <tr>\n",
       "      <th>30522</th>\n",
       "      <td>2021-01-23 12:44:00</td>\n",
       "      <td>NaN</td>\n",
       "      <td>NaN</td>\n",
       "      <td>NaN</td>\n",
       "      <td>NaN</td>\n",
       "      <td>NaN</td>\n",
       "      <td>2021-01-23 21:44:00</td>\n",
       "      <td>23.0</td>\n",
       "      <td>12457.55</td>\n",
       "      <td>-130.28</td>\n",
       "      <td>55040.48</td>\n",
       "      <td>56412.07</td>\n",
       "    </tr>\n",
       "    <tr>\n",
       "      <th>30523</th>\n",
       "      <td>2021-01-23 12:45:00</td>\n",
       "      <td>NaN</td>\n",
       "      <td>NaN</td>\n",
       "      <td>NaN</td>\n",
       "      <td>NaN</td>\n",
       "      <td>NaN</td>\n",
       "      <td>2021-01-23 21:45:00</td>\n",
       "      <td>23.0</td>\n",
       "      <td>12460.44</td>\n",
       "      <td>-131.18</td>\n",
       "      <td>55039.96</td>\n",
       "      <td>56412.13</td>\n",
       "    </tr>\n",
       "    <tr>\n",
       "      <th>30524</th>\n",
       "      <td>2021-01-23 12:46:00</td>\n",
       "      <td>NaN</td>\n",
       "      <td>NaN</td>\n",
       "      <td>NaN</td>\n",
       "      <td>NaN</td>\n",
       "      <td>NaN</td>\n",
       "      <td>2021-01-23 21:46:00</td>\n",
       "      <td>23.0</td>\n",
       "      <td>12464.78</td>\n",
       "      <td>-132.69</td>\n",
       "      <td>55036.79</td>\n",
       "      <td>56410.01</td>\n",
       "    </tr>\n",
       "    <tr>\n",
       "      <th>30525</th>\n",
       "      <td>2021-01-23 12:47:00</td>\n",
       "      <td>NaN</td>\n",
       "      <td>NaN</td>\n",
       "      <td>NaN</td>\n",
       "      <td>NaN</td>\n",
       "      <td>NaN</td>\n",
       "      <td>2021-01-23 21:47:00</td>\n",
       "      <td>23.0</td>\n",
       "      <td>12466.64</td>\n",
       "      <td>-132.38</td>\n",
       "      <td>55035.05</td>\n",
       "      <td>56408.72</td>\n",
       "    </tr>\n",
       "    <tr>\n",
       "      <th>30526</th>\n",
       "      <td>2021-01-23 12:48:00</td>\n",
       "      <td>NaN</td>\n",
       "      <td>NaN</td>\n",
       "      <td>NaN</td>\n",
       "      <td>NaN</td>\n",
       "      <td>NaN</td>\n",
       "      <td>2021-01-23 21:48:00</td>\n",
       "      <td>23.0</td>\n",
       "      <td>12465.28</td>\n",
       "      <td>-133.17</td>\n",
       "      <td>55034.34</td>\n",
       "      <td>56407.77</td>\n",
       "    </tr>\n",
       "  </tbody>\n",
       "</table>\n",
       "<p>30527 rows × 12 columns</p>\n",
       "</div>"
      ],
      "text/plain": [
       "                LocalTime            F      X       Y       Z  F_mean  \\\n",
       "0     2021-01-20 10:35:19  5019.010759  592.0  3682.0  3359.0     NaN   \n",
       "1     2021-01-20 10:35:29  5014.296062  595.0  3676.0  3358.0     NaN   \n",
       "2     2021-01-20 10:35:39  5014.177500  594.0  3676.0  3358.0     NaN   \n",
       "3     2021-01-20 10:35:49  5020.467508  593.0  3682.0  3361.0     NaN   \n",
       "4     2021-01-20 10:35:59  4920.464206  690.0  3868.0  2962.0     NaN   \n",
       "...                   ...          ...    ...     ...     ...     ...   \n",
       "30522 2021-01-23 12:44:00          NaN    NaN     NaN     NaN     NaN   \n",
       "30523 2021-01-23 12:45:00          NaN    NaN     NaN     NaN     NaN   \n",
       "30524 2021-01-23 12:46:00          NaN    NaN     NaN     NaN     NaN   \n",
       "30525 2021-01-23 12:47:00          NaN    NaN     NaN     NaN     NaN   \n",
       "30526 2021-01-23 12:48:00          NaN    NaN     NaN     NaN     NaN   \n",
       "\n",
       "                  GMTTime   DOY      CMOH    CMOD      CMOZ      CMOF  \n",
       "0                     NaT   NaN       NaN     NaN       NaN       NaN  \n",
       "1                     NaT   NaN       NaN     NaN       NaN       NaN  \n",
       "2                     NaT   NaN       NaN     NaN       NaN       NaN  \n",
       "3                     NaT   NaN       NaN     NaN       NaN       NaN  \n",
       "4                     NaT   NaN       NaN     NaN       NaN       NaN  \n",
       "...                   ...   ...       ...     ...       ...       ...  \n",
       "30522 2021-01-23 21:44:00  23.0  12457.55 -130.28  55040.48  56412.07  \n",
       "30523 2021-01-23 21:45:00  23.0  12460.44 -131.18  55039.96  56412.13  \n",
       "30524 2021-01-23 21:46:00  23.0  12464.78 -132.69  55036.79  56410.01  \n",
       "30525 2021-01-23 21:47:00  23.0  12466.64 -132.38  55035.05  56408.72  \n",
       "30526 2021-01-23 21:48:00  23.0  12465.28 -133.17  55034.34  56407.77  \n",
       "\n",
       "[30527 rows x 12 columns]"
      ]
     },
     "execution_count": 45,
     "metadata": {},
     "output_type": "execute_result"
    }
   ],
   "source": [
    "dfresult"
   ]
  }
 ],
 "metadata": {
  "kernelspec": {
   "display_name": "Python 3",
   "language": "python",
   "name": "python3"
  },
  "language_info": {
   "codemirror_mode": {
    "name": "ipython",
    "version": 3
   },
   "file_extension": ".py",
   "mimetype": "text/x-python",
   "name": "python",
   "nbconvert_exporter": "python",
   "pygments_lexer": "ipython3",
   "version": "3.7.9"
  }
 },
 "nbformat": 4,
 "nbformat_minor": 5
}
