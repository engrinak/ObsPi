{
 "cells": [
  {
   "cell_type": "markdown",
   "id": "serious-wallpaper",
   "metadata": {},
   "source": [
    "## Calculate Stuff\n",
    "It has been a long time since I have taken a Heat Transfer course, but thanks to google I found a formula that seems vaguely familiar. This is for one dimensional heat conduction through a material of some thickness, s. This formula can be found [here](https://www.engineeringtoolbox.com/thermal-conductivity-d_429.html).\n",
    "\n",
    "${q} = {A}\\frac{k}{s}*\\Delta{T}$\n",
    "\n",
    "\n",
    "* *k*: A quick google search reveals that the heat transfer coefficient for ABS plastic is about 0.14 W/m-K.\n",
    "* *s*: I’m estimating the thickness to be about 1/8” or roughly 3mm.\n",
    "* *A*: Surface area can be calculated with the following formula for a rectangular prism.\n",
    "\n",
    "${A} = 2*({l}*{w}+{w}*{h}+{l}*{h}) $\n",
    "\n",
    "* *l*: 8 inches    ---> 0.2032 meters\n",
    "* *w*: 6 inches    ---> 0.1524 meters\n",
    "* *h*: 4.25 inches ---> 0.10795 meters\n",
    "\n",
    "${A} = 0.1387094 m^2$\n",
    "\n",
    "* *$\\Delta{T}$*: I want to maintain a temperature of 30 degrees Fahrenheit, as that is the low end on the specifications for the Raspberry Pi. I will plan for a lowest ambient temperature of 0 degrees F so the temperature difference is going to be 30 degrees F, but in order to find the temperature difference in Celsius or Kelvin, we have to convert the nominal 30F and 0F before doing the subtraction. This will yield a ∆T of **16.67 C** or K.\n",
    "\n",
    "## Quick Calculation\n",
    "\n",
    "I need to figure out how many watts of heat are required in order to keep the box warm. Using the one dimensional formula above, I'll try to estimate the heat requirement. "
   ]
  },
  {
   "cell_type": "code",
   "execution_count": 20,
   "id": "cheap-straight",
   "metadata": {},
   "outputs": [
    {
     "name": "stdout",
     "output_type": "stream",
     "text": [
      "q = 108.735 Watts\n"
     ]
    }
   ],
   "source": [
    "import math\n",
    "import matplotlib.pyplot as plt\n",
    "\n",
    "def q1d_calc(A, s, k, Tin_F, Tout_F):\n",
    "    Tin_C = (Tin_F - 32) * (5/9)\n",
    "    Tout_C = (Tout_F - 32) * (5/9)\n",
    "    dT = abs(Tin_C - Tout_C)\n",
    "    q = A * (k/s) * dT\n",
    "    return q\n",
    "\n",
    "A = 0.1387094 # area in square meters\n",
    "s = 0.003175  # thickness in meters\n",
    "k = 0.14      # thermal conductivity in W/m-K\n",
    "Tin_F = 32    # internal temperature in deg F\n",
    "Tout_F = 0    # external temperature in deg F\n",
    "\n",
    "q = round(q1d_calc(A, s, k, Tin_F, Tout_F), 3)\n",
    "\n",
    "print(\"q = \" + str(q) + \" Watts\")"
   ]
  },
  {
   "cell_type": "markdown",
   "id": "ambient-airfare",
   "metadata": {},
   "source": [
    "## How many Watts required?\n",
    "For my required temperature difference of 32 degrees Fahrenheit, I have an estimate of 108.735W for the enclosure.\n",
    "\n",
    "## Temperature Test - Light Off. Can the Pi keep itself warm?\n",
    "I performed this first test to see if the Raspberry Pi could keep itself warm, without any help from an external heat source. The Raspberry Pi’s documentation states that its operating range is between 0 degrees Celsius and 70 degrees Celsius. The coldest average temperature for Anchorage in January is about 14 degrees Fahrenheit, slightly below the operating range.\n",
    "\n",
    "I let it run for about an hour in the enclosure outside and it got cold fast. The final ∆T was around 5 degrees Fahrenheit. This is likely not enough to keep the operating temp of the Pi above freezing on the coldest days.\n"
   ]
  },
  {
   "cell_type": "code",
   "execution_count": 28,
   "id": "cubic-video",
   "metadata": {},
   "outputs": [
    {
     "data": {
      "text/plain": [
       "<matplotlib.legend.Legend at 0x23f543b2248>"
      ]
     },
     "execution_count": 28,
     "metadata": {},
     "output_type": "execute_result"
    },
    {
     "data": {
      "image/png": "[encoded data removed]",
      "text/plain": [
       "<Figure size 432x288 with 1 Axes>"
      ]
     },
     "metadata": {
      "needs_background": "light"
     },
     "output_type": "display_data"
    }
   ],
   "source": [
    "#Get the temperature data, copy pasted from excel sheet. Plot here in jupyter notebook.\n",
    "import pandas as pd\n",
    "df0 = pd.read_clipboard(parse_dates=[0], header=0)\n",
    "\n",
    "fig, ax = plt.subplots()\n",
    "ax.plot(df0['Time'], df0['External T'], marker='o', label='Tout_F')\n",
    "ax.plot(df0['Time'], df0['Internal T'], marker='o', label='Tin_F')\n",
    "ax.set_ylabel('Temperature (deg F)')\n",
    "ax.set_xlabel('Time')\n",
    "ax.legend()"
   ]
  },
  {
   "cell_type": "code",
   "execution_count": 29,
   "id": "promotional-partner",
   "metadata": {},
   "outputs": [
    {
     "name": "stdout",
     "output_type": "stream",
     "text": [
      "q = 18.009 Watts. (Generated by Raspberry Pi, Light bulb off)\n"
     ]
    }
   ],
   "source": [
    "Tin_F = 32       # internal temperature in deg F\n",
    "Tout_F = 26.7    # external temperature in deg F\n",
    "\n",
    "q = round(q1d_calc(A, s, k, Tin_F, Tout_F), 3)\n",
    "\n",
    "print(\"q = \" + str(q) + \" Watts.\")   #Generated by raspberry pi with the light bulb off."
   ]
  }
 ],
 "metadata": {
  "kernelspec": {
   "display_name": "Python 3",
   "language": "python",
   "name": "python3"
  },
  "language_info": {
   "codemirror_mode": {
    "name": "ipython",
    "version": 3
   },
   "file_extension": ".py",
   "mimetype": "text/x-python",
   "name": "python",
   "nbconvert_exporter": "python",
   "pygments_lexer": "ipython3",
   "version": "3.7.9"
  }
 },
 "nbformat": 4,
 "nbformat_minor": 5
}
